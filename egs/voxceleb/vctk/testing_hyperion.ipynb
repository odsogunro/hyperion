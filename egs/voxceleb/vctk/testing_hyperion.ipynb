{
 "cells": [
  {
   "cell_type": "code",
   "execution_count": null,
   "metadata": {},
   "outputs": [],
   "source": [
    "# Running cells with 'Python 3.8.12 ('hyperion00')' requires ipykernel package.\n",
    "# Run the following command to install 'ipykernel' into the Python environment. \n",
    "# Command: 'conda install -n hyperion00 ipykernel --update-deps --force-reinstall'\n",
    "\n",
    "import hyperion as hyp"
   ]
  },
  {
   "cell_type": "code",
   "execution_count": null,
   "metadata": {},
   "outputs": [],
   "source": []
  }
 ],
 "metadata": {
  "interpreter": {
   "hash": "82201fb956c2e747ffd15ab548026c06645c34fa55c58f94cf8c86c39f060ac6"
  },
  "kernelspec": {
   "display_name": "Python 3.8.12 ('hyperion00')",
   "language": "python",
   "name": "python3"
  },
  "language_info": {
   "name": "python",
   "version": "3.8.12"
  },
  "orig_nbformat": 4
 },
 "nbformat": 4,
 "nbformat_minor": 2
}
